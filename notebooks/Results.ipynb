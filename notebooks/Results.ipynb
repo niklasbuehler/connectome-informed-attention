{
 "cells": [
  {
   "cell_type": "code",
   "execution_count": 32,
   "id": "d584aed0",
   "metadata": {},
   "outputs": [],
   "source": [
    "import pickle\n",
    "from matplotlib import pyplot\n",
    "import numpy as np\n",
    "import pandas as pd\n",
    "from plotnine import *\n",
    "\n",
    "from brainspace.plotting import plot_hemispheres\n",
    "from brainspace.datasets import load_group_fc, load_parcellation\n",
    "from brainspace.gradient import GradientMaps\n",
    "from brainspace.utils.parcellation import map_to_labels\n",
    "from brainspace.datasets import load_conte69"
   ]
  },
  {
   "cell_type": "code",
   "execution_count": 33,
   "id": "f8b604ec",
   "metadata": {},
   "outputs": [],
   "source": [
    "#plotnine.options.figure_size = (19.2, 9.6)"
   ]
  },
  {
   "cell_type": "markdown",
   "id": "59e74eb0",
   "metadata": {},
   "source": [
    "## Old Format"
   ]
  },
  {
   "cell_type": "code",
   "execution_count": 34,
   "id": "696efa34",
   "metadata": {},
   "outputs": [],
   "source": [
    "batchnr = 1"
   ]
  },
  {
   "cell_type": "code",
   "execution_count": 35,
   "id": "c18e7d3d",
   "metadata": {},
   "outputs": [],
   "source": [
    "samplenr = 30 # 30"
   ]
  },
  {
   "cell_type": "code",
   "execution_count": 36,
   "id": "7c1bfb07",
   "metadata": {},
   "outputs": [],
   "source": [
    "with open('Results/data/pickles/earlyfusion_'+str(batchnr)+'.pickle', 'rb') as handle:\n",
    "    dat = pickle.load(handle)\n",
    "batch, pred, target = dat"
   ]
  },
  {
   "cell_type": "code",
   "execution_count": 37,
   "id": "80cd22fd",
   "metadata": {},
   "outputs": [
    {
     "name": "stdout",
     "output_type": "stream",
     "text": [
      "torch.Size([64, 10, 203])\n",
      "torch.Size([64, 200])\n",
      "torch.Size([64, 200])\n"
     ]
    }
   ],
   "source": [
    "print(batch.shape)\n",
    "print(pred.shape)\n",
    "print(target.shape)"
   ]
  },
  {
   "cell_type": "code",
   "execution_count": 38,
   "id": "2746dc23",
   "metadata": {},
   "outputs": [],
   "source": [
    "x_mean = np.mean(batch[:,0,3:].numpy(), axis=0)\n",
    "pred_mean = np.mean(pred.numpy(), axis=0)\n",
    "target_mean = np.mean(target.numpy(), axis=0)"
   ]
  },
  {
   "cell_type": "code",
   "execution_count": 39,
   "id": "e6e3be4c",
   "metadata": {
    "scrolled": false
   },
   "outputs": [],
   "source": [
    "x = batch[samplenr,0,3:]\n",
    "pred = pred[samplenr,:].numpy()\n",
    "target = target[samplenr,:].numpy()"
   ]
  },
  {
   "cell_type": "code",
   "execution_count": 40,
   "id": "5e5c3e8f",
   "metadata": {},
   "outputs": [
    {
     "data": {
      "text/html": [
       "<div>\n",
       "<style scoped>\n",
       "    .dataframe tbody tr th:only-of-type {\n",
       "        vertical-align: middle;\n",
       "    }\n",
       "\n",
       "    .dataframe tbody tr th {\n",
       "        vertical-align: top;\n",
       "    }\n",
       "\n",
       "    .dataframe thead th {\n",
       "        text-align: right;\n",
       "    }\n",
       "</style>\n",
       "<table border=\"1\" class=\"dataframe\">\n",
       "  <thead>\n",
       "    <tr style=\"text-align: right;\">\n",
       "      <th></th>\n",
       "      <th>region</th>\n",
       "      <th>x</th>\n",
       "      <th>pred</th>\n",
       "      <th>target</th>\n",
       "    </tr>\n",
       "  </thead>\n",
       "  <tbody>\n",
       "    <tr>\n",
       "      <th>0</th>\n",
       "      <td>1</td>\n",
       "      <td>0.952489</td>\n",
       "      <td>1.091498</td>\n",
       "      <td>1.044822</td>\n",
       "    </tr>\n",
       "    <tr>\n",
       "      <th>1</th>\n",
       "      <td>2</td>\n",
       "      <td>0.974846</td>\n",
       "      <td>1.102692</td>\n",
       "      <td>1.060391</td>\n",
       "    </tr>\n",
       "    <tr>\n",
       "      <th>2</th>\n",
       "      <td>3</td>\n",
       "      <td>0.833542</td>\n",
       "      <td>0.962360</td>\n",
       "      <td>0.953708</td>\n",
       "    </tr>\n",
       "    <tr>\n",
       "      <th>3</th>\n",
       "      <td>4</td>\n",
       "      <td>0.705428</td>\n",
       "      <td>0.955932</td>\n",
       "      <td>0.834161</td>\n",
       "    </tr>\n",
       "    <tr>\n",
       "      <th>4</th>\n",
       "      <td>5</td>\n",
       "      <td>0.895183</td>\n",
       "      <td>0.965922</td>\n",
       "      <td>0.963389</td>\n",
       "    </tr>\n",
       "    <tr>\n",
       "      <th>...</th>\n",
       "      <td>...</td>\n",
       "      <td>...</td>\n",
       "      <td>...</td>\n",
       "      <td>...</td>\n",
       "    </tr>\n",
       "    <tr>\n",
       "      <th>195</th>\n",
       "      <td>196</td>\n",
       "      <td>0.914570</td>\n",
       "      <td>0.990376</td>\n",
       "      <td>0.976514</td>\n",
       "    </tr>\n",
       "    <tr>\n",
       "      <th>196</th>\n",
       "      <td>197</td>\n",
       "      <td>0.992304</td>\n",
       "      <td>1.063493</td>\n",
       "      <td>1.036968</td>\n",
       "    </tr>\n",
       "    <tr>\n",
       "      <th>197</th>\n",
       "      <td>198</td>\n",
       "      <td>0.958842</td>\n",
       "      <td>1.101521</td>\n",
       "      <td>1.046849</td>\n",
       "    </tr>\n",
       "    <tr>\n",
       "      <th>198</th>\n",
       "      <td>199</td>\n",
       "      <td>0.854081</td>\n",
       "      <td>1.023082</td>\n",
       "      <td>0.974050</td>\n",
       "    </tr>\n",
       "    <tr>\n",
       "      <th>199</th>\n",
       "      <td>200</td>\n",
       "      <td>0.390112</td>\n",
       "      <td>-0.000074</td>\n",
       "      <td>0.000000</td>\n",
       "    </tr>\n",
       "  </tbody>\n",
       "</table>\n",
       "<p>200 rows × 4 columns</p>\n",
       "</div>"
      ],
      "text/plain": [
       "     region         x      pred    target\n",
       "0         1  0.952489  1.091498  1.044822\n",
       "1         2  0.974846  1.102692  1.060391\n",
       "2         3  0.833542  0.962360  0.953708\n",
       "3         4  0.705428  0.955932  0.834161\n",
       "4         5  0.895183  0.965922  0.963389\n",
       "..      ...       ...       ...       ...\n",
       "195     196  0.914570  0.990376  0.976514\n",
       "196     197  0.992304  1.063493  1.036968\n",
       "197     198  0.958842  1.101521  1.046849\n",
       "198     199  0.854081  1.023082  0.974050\n",
       "199     200  0.390112 -0.000074  0.000000\n",
       "\n",
       "[200 rows x 4 columns]"
      ]
     },
     "execution_count": 40,
     "metadata": {},
     "output_type": "execute_result"
    }
   ],
   "source": [
    "dct_mean = {\"region\": [(i+1) for i in np.arange(200)], \"x\": x_mean, \"pred\": pred_mean, \"target\": target_mean}\n",
    "data_mean = pd.DataFrame(dct_mean)\n",
    "data_mean"
   ]
  },
  {
   "cell_type": "code",
   "execution_count": 41,
   "id": "cc8b54c8",
   "metadata": {
    "scrolled": false
   },
   "outputs": [
    {
     "data": {
      "text/html": [
       "<div>\n",
       "<style scoped>\n",
       "    .dataframe tbody tr th:only-of-type {\n",
       "        vertical-align: middle;\n",
       "    }\n",
       "\n",
       "    .dataframe tbody tr th {\n",
       "        vertical-align: top;\n",
       "    }\n",
       "\n",
       "    .dataframe thead th {\n",
       "        text-align: right;\n",
       "    }\n",
       "</style>\n",
       "<table border=\"1\" class=\"dataframe\">\n",
       "  <thead>\n",
       "    <tr style=\"text-align: right;\">\n",
       "      <th></th>\n",
       "      <th>region</th>\n",
       "      <th>x</th>\n",
       "      <th>pred</th>\n",
       "      <th>target</th>\n",
       "    </tr>\n",
       "  </thead>\n",
       "  <tbody>\n",
       "    <tr>\n",
       "      <th>0</th>\n",
       "      <td>1</td>\n",
       "      <td>0.931923</td>\n",
       "      <td>1.101916</td>\n",
       "      <td>1.19234</td>\n",
       "    </tr>\n",
       "    <tr>\n",
       "      <th>1</th>\n",
       "      <td>2</td>\n",
       "      <td>0.970045</td>\n",
       "      <td>1.121938</td>\n",
       "      <td>1.20533</td>\n",
       "    </tr>\n",
       "    <tr>\n",
       "      <th>2</th>\n",
       "      <td>3</td>\n",
       "      <td>0.807212</td>\n",
       "      <td>0.966335</td>\n",
       "      <td>1.09794</td>\n",
       "    </tr>\n",
       "    <tr>\n",
       "      <th>3</th>\n",
       "      <td>4</td>\n",
       "      <td>0.698055</td>\n",
       "      <td>0.970018</td>\n",
       "      <td>1.02745</td>\n",
       "    </tr>\n",
       "    <tr>\n",
       "      <th>4</th>\n",
       "      <td>5</td>\n",
       "      <td>0.896285</td>\n",
       "      <td>0.976073</td>\n",
       "      <td>1.06921</td>\n",
       "    </tr>\n",
       "    <tr>\n",
       "      <th>...</th>\n",
       "      <td>...</td>\n",
       "      <td>...</td>\n",
       "      <td>...</td>\n",
       "      <td>...</td>\n",
       "    </tr>\n",
       "    <tr>\n",
       "      <th>195</th>\n",
       "      <td>196</td>\n",
       "      <td>0.903735</td>\n",
       "      <td>0.994739</td>\n",
       "      <td>1.06369</td>\n",
       "    </tr>\n",
       "    <tr>\n",
       "      <th>196</th>\n",
       "      <td>197</td>\n",
       "      <td>0.970873</td>\n",
       "      <td>1.070273</td>\n",
       "      <td>1.13908</td>\n",
       "    </tr>\n",
       "    <tr>\n",
       "      <th>197</th>\n",
       "      <td>198</td>\n",
       "      <td>0.939702</td>\n",
       "      <td>1.105266</td>\n",
       "      <td>1.18967</td>\n",
       "    </tr>\n",
       "    <tr>\n",
       "      <th>198</th>\n",
       "      <td>199</td>\n",
       "      <td>0.855222</td>\n",
       "      <td>1.022560</td>\n",
       "      <td>1.13860</td>\n",
       "    </tr>\n",
       "    <tr>\n",
       "      <th>199</th>\n",
       "      <td>200</td>\n",
       "      <td>0.240515</td>\n",
       "      <td>-0.000241</td>\n",
       "      <td>0.00000</td>\n",
       "    </tr>\n",
       "  </tbody>\n",
       "</table>\n",
       "<p>200 rows × 4 columns</p>\n",
       "</div>"
      ],
      "text/plain": [
       "     region         x      pred   target\n",
       "0         1  0.931923  1.101916  1.19234\n",
       "1         2  0.970045  1.121938  1.20533\n",
       "2         3  0.807212  0.966335  1.09794\n",
       "3         4  0.698055  0.970018  1.02745\n",
       "4         5  0.896285  0.976073  1.06921\n",
       "..      ...       ...       ...      ...\n",
       "195     196  0.903735  0.994739  1.06369\n",
       "196     197  0.970873  1.070273  1.13908\n",
       "197     198  0.939702  1.105266  1.18967\n",
       "198     199  0.855222  1.022560  1.13860\n",
       "199     200  0.240515 -0.000241  0.00000\n",
       "\n",
       "[200 rows x 4 columns]"
      ]
     },
     "execution_count": 41,
     "metadata": {},
     "output_type": "execute_result"
    }
   ],
   "source": [
    "dct = {\"region\": [(i+1) for i in np.arange(200)], \"x\": x, \"pred\": pred, \"target\": target}\n",
    "data = pd.DataFrame(dct)\n",
    "data"
   ]
  },
  {
   "cell_type": "code",
   "execution_count": 42,
   "id": "afce7292",
   "metadata": {
    "scrolled": true
   },
   "outputs": [
    {
     "data": {
      "text/html": [
       "<div>\n",
       "<style scoped>\n",
       "    .dataframe tbody tr th:only-of-type {\n",
       "        vertical-align: middle;\n",
       "    }\n",
       "\n",
       "    .dataframe tbody tr th {\n",
       "        vertical-align: top;\n",
       "    }\n",
       "\n",
       "    .dataframe thead th {\n",
       "        text-align: right;\n",
       "    }\n",
       "</style>\n",
       "<table border=\"1\" class=\"dataframe\">\n",
       "  <thead>\n",
       "    <tr style=\"text-align: right;\">\n",
       "      <th></th>\n",
       "      <th>region</th>\n",
       "      <th>variable</th>\n",
       "      <th>value</th>\n",
       "    </tr>\n",
       "  </thead>\n",
       "  <tbody>\n",
       "    <tr>\n",
       "      <th>0</th>\n",
       "      <td>1</td>\n",
       "      <td>x</td>\n",
       "      <td>0.952489</td>\n",
       "    </tr>\n",
       "    <tr>\n",
       "      <th>1</th>\n",
       "      <td>2</td>\n",
       "      <td>x</td>\n",
       "      <td>0.974846</td>\n",
       "    </tr>\n",
       "    <tr>\n",
       "      <th>2</th>\n",
       "      <td>3</td>\n",
       "      <td>x</td>\n",
       "      <td>0.833542</td>\n",
       "    </tr>\n",
       "    <tr>\n",
       "      <th>3</th>\n",
       "      <td>4</td>\n",
       "      <td>x</td>\n",
       "      <td>0.705428</td>\n",
       "    </tr>\n",
       "    <tr>\n",
       "      <th>4</th>\n",
       "      <td>5</td>\n",
       "      <td>x</td>\n",
       "      <td>0.895183</td>\n",
       "    </tr>\n",
       "    <tr>\n",
       "      <th>...</th>\n",
       "      <td>...</td>\n",
       "      <td>...</td>\n",
       "      <td>...</td>\n",
       "    </tr>\n",
       "    <tr>\n",
       "      <th>595</th>\n",
       "      <td>196</td>\n",
       "      <td>target</td>\n",
       "      <td>0.976514</td>\n",
       "    </tr>\n",
       "    <tr>\n",
       "      <th>596</th>\n",
       "      <td>197</td>\n",
       "      <td>target</td>\n",
       "      <td>1.036968</td>\n",
       "    </tr>\n",
       "    <tr>\n",
       "      <th>597</th>\n",
       "      <td>198</td>\n",
       "      <td>target</td>\n",
       "      <td>1.046849</td>\n",
       "    </tr>\n",
       "    <tr>\n",
       "      <th>598</th>\n",
       "      <td>199</td>\n",
       "      <td>target</td>\n",
       "      <td>0.974050</td>\n",
       "    </tr>\n",
       "    <tr>\n",
       "      <th>599</th>\n",
       "      <td>200</td>\n",
       "      <td>target</td>\n",
       "      <td>0.000000</td>\n",
       "    </tr>\n",
       "  </tbody>\n",
       "</table>\n",
       "<p>600 rows × 3 columns</p>\n",
       "</div>"
      ],
      "text/plain": [
       "     region variable     value\n",
       "0         1        x  0.952489\n",
       "1         2        x  0.974846\n",
       "2         3        x  0.833542\n",
       "3         4        x  0.705428\n",
       "4         5        x  0.895183\n",
       "..      ...      ...       ...\n",
       "595     196   target  0.976514\n",
       "596     197   target  1.036968\n",
       "597     198   target  1.046849\n",
       "598     199   target  0.974050\n",
       "599     200   target  0.000000\n",
       "\n",
       "[600 rows x 3 columns]"
      ]
     },
     "execution_count": 42,
     "metadata": {},
     "output_type": "execute_result"
    }
   ],
   "source": [
    "data_mean = data_mean.melt(id_vars = [\"region\"], value_vars=[\"x\", \"pred\", \"target\"])\n",
    "data_mean"
   ]
  },
  {
   "cell_type": "code",
   "execution_count": 43,
   "id": "93f1742d",
   "metadata": {},
   "outputs": [
    {
     "data": {
      "text/html": [
       "<div>\n",
       "<style scoped>\n",
       "    .dataframe tbody tr th:only-of-type {\n",
       "        vertical-align: middle;\n",
       "    }\n",
       "\n",
       "    .dataframe tbody tr th {\n",
       "        vertical-align: top;\n",
       "    }\n",
       "\n",
       "    .dataframe thead th {\n",
       "        text-align: right;\n",
       "    }\n",
       "</style>\n",
       "<table border=\"1\" class=\"dataframe\">\n",
       "  <thead>\n",
       "    <tr style=\"text-align: right;\">\n",
       "      <th></th>\n",
       "      <th>region</th>\n",
       "      <th>variable</th>\n",
       "      <th>value</th>\n",
       "    </tr>\n",
       "  </thead>\n",
       "  <tbody>\n",
       "    <tr>\n",
       "      <th>0</th>\n",
       "      <td>1</td>\n",
       "      <td>x</td>\n",
       "      <td>0.931923</td>\n",
       "    </tr>\n",
       "    <tr>\n",
       "      <th>1</th>\n",
       "      <td>2</td>\n",
       "      <td>x</td>\n",
       "      <td>0.970045</td>\n",
       "    </tr>\n",
       "    <tr>\n",
       "      <th>2</th>\n",
       "      <td>3</td>\n",
       "      <td>x</td>\n",
       "      <td>0.807212</td>\n",
       "    </tr>\n",
       "    <tr>\n",
       "      <th>3</th>\n",
       "      <td>4</td>\n",
       "      <td>x</td>\n",
       "      <td>0.698055</td>\n",
       "    </tr>\n",
       "    <tr>\n",
       "      <th>4</th>\n",
       "      <td>5</td>\n",
       "      <td>x</td>\n",
       "      <td>0.896285</td>\n",
       "    </tr>\n",
       "    <tr>\n",
       "      <th>...</th>\n",
       "      <td>...</td>\n",
       "      <td>...</td>\n",
       "      <td>...</td>\n",
       "    </tr>\n",
       "    <tr>\n",
       "      <th>595</th>\n",
       "      <td>196</td>\n",
       "      <td>target</td>\n",
       "      <td>1.063690</td>\n",
       "    </tr>\n",
       "    <tr>\n",
       "      <th>596</th>\n",
       "      <td>197</td>\n",
       "      <td>target</td>\n",
       "      <td>1.139080</td>\n",
       "    </tr>\n",
       "    <tr>\n",
       "      <th>597</th>\n",
       "      <td>198</td>\n",
       "      <td>target</td>\n",
       "      <td>1.189670</td>\n",
       "    </tr>\n",
       "    <tr>\n",
       "      <th>598</th>\n",
       "      <td>199</td>\n",
       "      <td>target</td>\n",
       "      <td>1.138600</td>\n",
       "    </tr>\n",
       "    <tr>\n",
       "      <th>599</th>\n",
       "      <td>200</td>\n",
       "      <td>target</td>\n",
       "      <td>0.000000</td>\n",
       "    </tr>\n",
       "  </tbody>\n",
       "</table>\n",
       "<p>600 rows × 3 columns</p>\n",
       "</div>"
      ],
      "text/plain": [
       "     region variable     value\n",
       "0         1        x  0.931923\n",
       "1         2        x  0.970045\n",
       "2         3        x  0.807212\n",
       "3         4        x  0.698055\n",
       "4         5        x  0.896285\n",
       "..      ...      ...       ...\n",
       "595     196   target  1.063690\n",
       "596     197   target  1.139080\n",
       "597     198   target  1.189670\n",
       "598     199   target  1.138600\n",
       "599     200   target  0.000000\n",
       "\n",
       "[600 rows x 3 columns]"
      ]
     },
     "execution_count": 43,
     "metadata": {},
     "output_type": "execute_result"
    }
   ],
   "source": [
    "data = data.melt(id_vars = [\"region\"], value_vars=[\"x\", \"pred\", \"target\"])\n",
    "data"
   ]
  },
  {
   "cell_type": "code",
   "execution_count": 44,
   "id": "64bb9fa9",
   "metadata": {
    "scrolled": false
   },
   "outputs": [
    {
     "data": {
      "image/png": "[encoded data removed]",
      "text/plain": [
       "<Figure size 640x480 with 1 Axes>"
      ]
     },
     "metadata": {},
     "output_type": "display_data"
    },
    {
     "data": {
      "text/plain": [
       "<ggplot: (8727186728120)>"
      ]
     },
     "execution_count": 44,
     "metadata": {},
     "output_type": "execute_result"
    }
   ],
   "source": [
    "(ggplot(data_mean, aes(x='region', y='value', fill='variable')) + geom_col(stat='identity', position='dodge'))"
   ]
  },
  {
   "cell_type": "code",
   "execution_count": 45,
   "id": "5356f8ac",
   "metadata": {
    "scrolled": true
   },
   "outputs": [
    {
     "data": {
      "image/png": "[encoded data removed]",
      "text/plain": [
       "<Figure size 640x480 with 1 Axes>"
      ]
     },
     "metadata": {},
     "output_type": "display_data"
    },
    {
     "data": {
      "text/plain": [
       "<ggplot: (8727186737300)>"
      ]
     },
     "execution_count": 45,
     "metadata": {},
     "output_type": "execute_result"
    }
   ],
   "source": [
    "(ggplot(data, aes(x='region', y='value', fill='variable')) + geom_col(stat='identity', position='dodge') + theme(axis_text_x=element_text(rotation=90, hjust=1)))"
   ]
  },
  {
   "cell_type": "code",
   "execution_count": 46,
   "id": "1f1ff961",
   "metadata": {},
   "outputs": [
    {
     "data": {
      "text/html": [
       "<div>\n",
       "<style scoped>\n",
       "    .dataframe tbody tr th:only-of-type {\n",
       "        vertical-align: middle;\n",
       "    }\n",
       "\n",
       "    .dataframe tbody tr th {\n",
       "        vertical-align: top;\n",
       "    }\n",
       "\n",
       "    .dataframe thead th {\n",
       "        text-align: right;\n",
       "    }\n",
       "</style>\n",
       "<table border=\"1\" class=\"dataframe\">\n",
       "  <thead>\n",
       "    <tr style=\"text-align: right;\">\n",
       "      <th></th>\n",
       "      <th>region</th>\n",
       "      <th>x</th>\n",
       "      <th>pred</th>\n",
       "      <th>target</th>\n",
       "      <th>tau_delta</th>\n",
       "      <th>pred_tau_delta</th>\n",
       "    </tr>\n",
       "  </thead>\n",
       "  <tbody>\n",
       "    <tr>\n",
       "      <th>0</th>\n",
       "      <td>1</td>\n",
       "      <td>0.931923</td>\n",
       "      <td>1.101916</td>\n",
       "      <td>1.19234</td>\n",
       "      <td>0.260417</td>\n",
       "      <td>0.169993</td>\n",
       "    </tr>\n",
       "    <tr>\n",
       "      <th>1</th>\n",
       "      <td>2</td>\n",
       "      <td>0.970045</td>\n",
       "      <td>1.121938</td>\n",
       "      <td>1.20533</td>\n",
       "      <td>0.235285</td>\n",
       "      <td>0.151893</td>\n",
       "    </tr>\n",
       "    <tr>\n",
       "      <th>2</th>\n",
       "      <td>3</td>\n",
       "      <td>0.807212</td>\n",
       "      <td>0.966335</td>\n",
       "      <td>1.09794</td>\n",
       "      <td>0.290728</td>\n",
       "      <td>0.159123</td>\n",
       "    </tr>\n",
       "    <tr>\n",
       "      <th>3</th>\n",
       "      <td>4</td>\n",
       "      <td>0.698055</td>\n",
       "      <td>0.970018</td>\n",
       "      <td>1.02745</td>\n",
       "      <td>0.329395</td>\n",
       "      <td>0.271963</td>\n",
       "    </tr>\n",
       "    <tr>\n",
       "      <th>4</th>\n",
       "      <td>5</td>\n",
       "      <td>0.896285</td>\n",
       "      <td>0.976073</td>\n",
       "      <td>1.06921</td>\n",
       "      <td>0.172925</td>\n",
       "      <td>0.079788</td>\n",
       "    </tr>\n",
       "    <tr>\n",
       "      <th>...</th>\n",
       "      <td>...</td>\n",
       "      <td>...</td>\n",
       "      <td>...</td>\n",
       "      <td>...</td>\n",
       "      <td>...</td>\n",
       "      <td>...</td>\n",
       "    </tr>\n",
       "    <tr>\n",
       "      <th>195</th>\n",
       "      <td>196</td>\n",
       "      <td>0.903735</td>\n",
       "      <td>0.994739</td>\n",
       "      <td>1.06369</td>\n",
       "      <td>0.159955</td>\n",
       "      <td>0.091004</td>\n",
       "    </tr>\n",
       "    <tr>\n",
       "      <th>196</th>\n",
       "      <td>197</td>\n",
       "      <td>0.970873</td>\n",
       "      <td>1.070273</td>\n",
       "      <td>1.13908</td>\n",
       "      <td>0.168207</td>\n",
       "      <td>0.099400</td>\n",
       "    </tr>\n",
       "    <tr>\n",
       "      <th>197</th>\n",
       "      <td>198</td>\n",
       "      <td>0.939702</td>\n",
       "      <td>1.105266</td>\n",
       "      <td>1.18967</td>\n",
       "      <td>0.249968</td>\n",
       "      <td>0.165564</td>\n",
       "    </tr>\n",
       "    <tr>\n",
       "      <th>198</th>\n",
       "      <td>199</td>\n",
       "      <td>0.855222</td>\n",
       "      <td>1.022560</td>\n",
       "      <td>1.13860</td>\n",
       "      <td>0.283378</td>\n",
       "      <td>0.167338</td>\n",
       "    </tr>\n",
       "    <tr>\n",
       "      <th>199</th>\n",
       "      <td>200</td>\n",
       "      <td>0.240515</td>\n",
       "      <td>-0.000241</td>\n",
       "      <td>0.00000</td>\n",
       "      <td>-0.240515</td>\n",
       "      <td>-0.240756</td>\n",
       "    </tr>\n",
       "  </tbody>\n",
       "</table>\n",
       "<p>200 rows × 6 columns</p>\n",
       "</div>"
      ],
      "text/plain": [
       "     region         x      pred   target  tau_delta  pred_tau_delta\n",
       "0         1  0.931923  1.101916  1.19234   0.260417        0.169993\n",
       "1         2  0.970045  1.121938  1.20533   0.235285        0.151893\n",
       "2         3  0.807212  0.966335  1.09794   0.290728        0.159123\n",
       "3         4  0.698055  0.970018  1.02745   0.329395        0.271963\n",
       "4         5  0.896285  0.976073  1.06921   0.172925        0.079788\n",
       "..      ...       ...       ...      ...        ...             ...\n",
       "195     196  0.903735  0.994739  1.06369   0.159955        0.091004\n",
       "196     197  0.970873  1.070273  1.13908   0.168207        0.099400\n",
       "197     198  0.939702  1.105266  1.18967   0.249968        0.165564\n",
       "198     199  0.855222  1.022560  1.13860   0.283378        0.167338\n",
       "199     200  0.240515 -0.000241  0.00000  -0.240515       -0.240756\n",
       "\n",
       "[200 rows x 6 columns]"
      ]
     },
     "execution_count": 46,
     "metadata": {},
     "output_type": "execute_result"
    }
   ],
   "source": [
    "dct = {\"region\": [(i+1) for i in np.arange(200)], \"x\": x, \"pred\": pred, \"target\": target, \"tau_delta\": target-x.numpy(), \"pred_tau_delta\": pred-x.numpy()}\n",
    "data = pd.DataFrame(dct)\n",
    "data"
   ]
  },
  {
   "cell_type": "code",
   "execution_count": 47,
   "id": "ce6a8a08",
   "metadata": {},
   "outputs": [
    {
     "data": {
      "text/html": [
       "<div>\n",
       "<style scoped>\n",
       "    .dataframe tbody tr th:only-of-type {\n",
       "        vertical-align: middle;\n",
       "    }\n",
       "\n",
       "    .dataframe tbody tr th {\n",
       "        vertical-align: top;\n",
       "    }\n",
       "\n",
       "    .dataframe thead th {\n",
       "        text-align: right;\n",
       "    }\n",
       "</style>\n",
       "<table border=\"1\" class=\"dataframe\">\n",
       "  <thead>\n",
       "    <tr style=\"text-align: right;\">\n",
       "      <th></th>\n",
       "      <th>region</th>\n",
       "      <th>variable</th>\n",
       "      <th>value</th>\n",
       "    </tr>\n",
       "  </thead>\n",
       "  <tbody>\n",
       "    <tr>\n",
       "      <th>0</th>\n",
       "      <td>1</td>\n",
       "      <td>tau_delta</td>\n",
       "      <td>0.260417</td>\n",
       "    </tr>\n",
       "    <tr>\n",
       "      <th>1</th>\n",
       "      <td>2</td>\n",
       "      <td>tau_delta</td>\n",
       "      <td>0.235285</td>\n",
       "    </tr>\n",
       "    <tr>\n",
       "      <th>2</th>\n",
       "      <td>3</td>\n",
       "      <td>tau_delta</td>\n",
       "      <td>0.290728</td>\n",
       "    </tr>\n",
       "    <tr>\n",
       "      <th>3</th>\n",
       "      <td>4</td>\n",
       "      <td>tau_delta</td>\n",
       "      <td>0.329395</td>\n",
       "    </tr>\n",
       "    <tr>\n",
       "      <th>4</th>\n",
       "      <td>5</td>\n",
       "      <td>tau_delta</td>\n",
       "      <td>0.172925</td>\n",
       "    </tr>\n",
       "    <tr>\n",
       "      <th>...</th>\n",
       "      <td>...</td>\n",
       "      <td>...</td>\n",
       "      <td>...</td>\n",
       "    </tr>\n",
       "    <tr>\n",
       "      <th>395</th>\n",
       "      <td>196</td>\n",
       "      <td>pred_tau_delta</td>\n",
       "      <td>0.091004</td>\n",
       "    </tr>\n",
       "    <tr>\n",
       "      <th>396</th>\n",
       "      <td>197</td>\n",
       "      <td>pred_tau_delta</td>\n",
       "      <td>0.099400</td>\n",
       "    </tr>\n",
       "    <tr>\n",
       "      <th>397</th>\n",
       "      <td>198</td>\n",
       "      <td>pred_tau_delta</td>\n",
       "      <td>0.165564</td>\n",
       "    </tr>\n",
       "    <tr>\n",
       "      <th>398</th>\n",
       "      <td>199</td>\n",
       "      <td>pred_tau_delta</td>\n",
       "      <td>0.167338</td>\n",
       "    </tr>\n",
       "    <tr>\n",
       "      <th>399</th>\n",
       "      <td>200</td>\n",
       "      <td>pred_tau_delta</td>\n",
       "      <td>-0.240756</td>\n",
       "    </tr>\n",
       "  </tbody>\n",
       "</table>\n",
       "<p>400 rows × 3 columns</p>\n",
       "</div>"
      ],
      "text/plain": [
       "     region        variable     value\n",
       "0         1       tau_delta  0.260417\n",
       "1         2       tau_delta  0.235285\n",
       "2         3       tau_delta  0.290728\n",
       "3         4       tau_delta  0.329395\n",
       "4         5       tau_delta  0.172925\n",
       "..      ...             ...       ...\n",
       "395     196  pred_tau_delta  0.091004\n",
       "396     197  pred_tau_delta  0.099400\n",
       "397     198  pred_tau_delta  0.165564\n",
       "398     199  pred_tau_delta  0.167338\n",
       "399     200  pred_tau_delta -0.240756\n",
       "\n",
       "[400 rows x 3 columns]"
      ]
     },
     "execution_count": 47,
     "metadata": {},
     "output_type": "execute_result"
    }
   ],
   "source": [
    "data = data.melt(id_vars = [\"region\"], value_vars=[\"tau_delta\", \"pred_tau_delta\"])\n",
    "data"
   ]
  },
  {
   "cell_type": "code",
   "execution_count": 48,
   "id": "175e939f",
   "metadata": {
    "scrolled": false
   },
   "outputs": [
    {
     "data": {
      "image/png": "[encoded data removed]",
      "text/plain": [
       "<Figure size 640x480 with 1 Axes>"
      ]
     },
     "metadata": {},
     "output_type": "display_data"
    },
    {
     "data": {
      "text/plain": [
       "<ggplot: (8727186873417)>"
      ]
     },
     "execution_count": 48,
     "metadata": {},
     "output_type": "execute_result"
    }
   ],
   "source": [
    "(ggplot(data, aes(x='region', y='value', fill='variable')) + geom_col(stat='identity', position='dodge') + theme(axis_text_x=element_text(rotation=90, hjust=1)))"
   ]
  },
  {
   "cell_type": "code",
   "execution_count": 49,
   "id": "ce1030f1",
   "metadata": {},
   "outputs": [
    {
     "data": {
      "text/html": [
       "<div>\n",
       "<style scoped>\n",
       "    .dataframe tbody tr th:only-of-type {\n",
       "        vertical-align: middle;\n",
       "    }\n",
       "\n",
       "    .dataframe tbody tr th {\n",
       "        vertical-align: top;\n",
       "    }\n",
       "\n",
       "    .dataframe thead th {\n",
       "        text-align: right;\n",
       "    }\n",
       "</style>\n",
       "<table border=\"1\" class=\"dataframe\">\n",
       "  <thead>\n",
       "    <tr style=\"text-align: right;\">\n",
       "      <th></th>\n",
       "      <th>region</th>\n",
       "      <th>x</th>\n",
       "      <th>pred</th>\n",
       "      <th>target</th>\n",
       "      <th>pred_error</th>\n",
       "      <th>tau_delta</th>\n",
       "    </tr>\n",
       "  </thead>\n",
       "  <tbody>\n",
       "    <tr>\n",
       "      <th>0</th>\n",
       "      <td>1</td>\n",
       "      <td>0.931923</td>\n",
       "      <td>1.101916</td>\n",
       "      <td>1.19234</td>\n",
       "      <td>0.090424</td>\n",
       "      <td>0.260417</td>\n",
       "    </tr>\n",
       "    <tr>\n",
       "      <th>1</th>\n",
       "      <td>2</td>\n",
       "      <td>0.970045</td>\n",
       "      <td>1.121938</td>\n",
       "      <td>1.20533</td>\n",
       "      <td>0.083392</td>\n",
       "      <td>0.235285</td>\n",
       "    </tr>\n",
       "    <tr>\n",
       "      <th>2</th>\n",
       "      <td>3</td>\n",
       "      <td>0.807212</td>\n",
       "      <td>0.966335</td>\n",
       "      <td>1.09794</td>\n",
       "      <td>0.131605</td>\n",
       "      <td>0.290728</td>\n",
       "    </tr>\n",
       "    <tr>\n",
       "      <th>3</th>\n",
       "      <td>4</td>\n",
       "      <td>0.698055</td>\n",
       "      <td>0.970018</td>\n",
       "      <td>1.02745</td>\n",
       "      <td>0.057432</td>\n",
       "      <td>0.329395</td>\n",
       "    </tr>\n",
       "    <tr>\n",
       "      <th>4</th>\n",
       "      <td>5</td>\n",
       "      <td>0.896285</td>\n",
       "      <td>0.976073</td>\n",
       "      <td>1.06921</td>\n",
       "      <td>0.093138</td>\n",
       "      <td>0.172925</td>\n",
       "    </tr>\n",
       "    <tr>\n",
       "      <th>...</th>\n",
       "      <td>...</td>\n",
       "      <td>...</td>\n",
       "      <td>...</td>\n",
       "      <td>...</td>\n",
       "      <td>...</td>\n",
       "      <td>...</td>\n",
       "    </tr>\n",
       "    <tr>\n",
       "      <th>195</th>\n",
       "      <td>196</td>\n",
       "      <td>0.903735</td>\n",
       "      <td>0.994739</td>\n",
       "      <td>1.06369</td>\n",
       "      <td>0.068951</td>\n",
       "      <td>0.159955</td>\n",
       "    </tr>\n",
       "    <tr>\n",
       "      <th>196</th>\n",
       "      <td>197</td>\n",
       "      <td>0.970873</td>\n",
       "      <td>1.070273</td>\n",
       "      <td>1.13908</td>\n",
       "      <td>0.068807</td>\n",
       "      <td>0.168207</td>\n",
       "    </tr>\n",
       "    <tr>\n",
       "      <th>197</th>\n",
       "      <td>198</td>\n",
       "      <td>0.939702</td>\n",
       "      <td>1.105266</td>\n",
       "      <td>1.18967</td>\n",
       "      <td>0.084404</td>\n",
       "      <td>0.249968</td>\n",
       "    </tr>\n",
       "    <tr>\n",
       "      <th>198</th>\n",
       "      <td>199</td>\n",
       "      <td>0.855222</td>\n",
       "      <td>1.022560</td>\n",
       "      <td>1.13860</td>\n",
       "      <td>0.116040</td>\n",
       "      <td>0.283378</td>\n",
       "    </tr>\n",
       "    <tr>\n",
       "      <th>199</th>\n",
       "      <td>200</td>\n",
       "      <td>0.240515</td>\n",
       "      <td>-0.000241</td>\n",
       "      <td>0.00000</td>\n",
       "      <td>0.000241</td>\n",
       "      <td>-0.240515</td>\n",
       "    </tr>\n",
       "  </tbody>\n",
       "</table>\n",
       "<p>200 rows × 6 columns</p>\n",
       "</div>"
      ],
      "text/plain": [
       "     region         x      pred   target  pred_error  tau_delta\n",
       "0         1  0.931923  1.101916  1.19234    0.090424   0.260417\n",
       "1         2  0.970045  1.121938  1.20533    0.083392   0.235285\n",
       "2         3  0.807212  0.966335  1.09794    0.131605   0.290728\n",
       "3         4  0.698055  0.970018  1.02745    0.057432   0.329395\n",
       "4         5  0.896285  0.976073  1.06921    0.093138   0.172925\n",
       "..      ...       ...       ...      ...         ...        ...\n",
       "195     196  0.903735  0.994739  1.06369    0.068951   0.159955\n",
       "196     197  0.970873  1.070273  1.13908    0.068807   0.168207\n",
       "197     198  0.939702  1.105266  1.18967    0.084404   0.249968\n",
       "198     199  0.855222  1.022560  1.13860    0.116040   0.283378\n",
       "199     200  0.240515 -0.000241  0.00000    0.000241  -0.240515\n",
       "\n",
       "[200 rows x 6 columns]"
      ]
     },
     "execution_count": 49,
     "metadata": {},
     "output_type": "execute_result"
    }
   ],
   "source": [
    "dct = {\"region\": [(i+1) for i in np.arange(200)], \"x\": x, \"pred\": pred, \"target\": target, \"pred_error\": target-pred, \"tau_delta\": target-x.numpy()}\n",
    "data = pd.DataFrame(dct)\n",
    "data"
   ]
  },
  {
   "cell_type": "code",
   "execution_count": 50,
   "id": "888ff8a0",
   "metadata": {
    "scrolled": true
   },
   "outputs": [
    {
     "data": {
      "text/html": [
       "<div>\n",
       "<style scoped>\n",
       "    .dataframe tbody tr th:only-of-type {\n",
       "        vertical-align: middle;\n",
       "    }\n",
       "\n",
       "    .dataframe tbody tr th {\n",
       "        vertical-align: top;\n",
       "    }\n",
       "\n",
       "    .dataframe thead th {\n",
       "        text-align: right;\n",
       "    }\n",
       "</style>\n",
       "<table border=\"1\" class=\"dataframe\">\n",
       "  <thead>\n",
       "    <tr style=\"text-align: right;\">\n",
       "      <th></th>\n",
       "      <th>region</th>\n",
       "      <th>variable</th>\n",
       "      <th>value</th>\n",
       "    </tr>\n",
       "  </thead>\n",
       "  <tbody>\n",
       "    <tr>\n",
       "      <th>0</th>\n",
       "      <td>1</td>\n",
       "      <td>pred_error</td>\n",
       "      <td>0.090424</td>\n",
       "    </tr>\n",
       "    <tr>\n",
       "      <th>1</th>\n",
       "      <td>2</td>\n",
       "      <td>pred_error</td>\n",
       "      <td>0.083392</td>\n",
       "    </tr>\n",
       "    <tr>\n",
       "      <th>2</th>\n",
       "      <td>3</td>\n",
       "      <td>pred_error</td>\n",
       "      <td>0.131605</td>\n",
       "    </tr>\n",
       "    <tr>\n",
       "      <th>3</th>\n",
       "      <td>4</td>\n",
       "      <td>pred_error</td>\n",
       "      <td>0.057432</td>\n",
       "    </tr>\n",
       "    <tr>\n",
       "      <th>4</th>\n",
       "      <td>5</td>\n",
       "      <td>pred_error</td>\n",
       "      <td>0.093138</td>\n",
       "    </tr>\n",
       "    <tr>\n",
       "      <th>...</th>\n",
       "      <td>...</td>\n",
       "      <td>...</td>\n",
       "      <td>...</td>\n",
       "    </tr>\n",
       "    <tr>\n",
       "      <th>395</th>\n",
       "      <td>196</td>\n",
       "      <td>tau_delta</td>\n",
       "      <td>0.159955</td>\n",
       "    </tr>\n",
       "    <tr>\n",
       "      <th>396</th>\n",
       "      <td>197</td>\n",
       "      <td>tau_delta</td>\n",
       "      <td>0.168207</td>\n",
       "    </tr>\n",
       "    <tr>\n",
       "      <th>397</th>\n",
       "      <td>198</td>\n",
       "      <td>tau_delta</td>\n",
       "      <td>0.249968</td>\n",
       "    </tr>\n",
       "    <tr>\n",
       "      <th>398</th>\n",
       "      <td>199</td>\n",
       "      <td>tau_delta</td>\n",
       "      <td>0.283378</td>\n",
       "    </tr>\n",
       "    <tr>\n",
       "      <th>399</th>\n",
       "      <td>200</td>\n",
       "      <td>tau_delta</td>\n",
       "      <td>-0.240515</td>\n",
       "    </tr>\n",
       "  </tbody>\n",
       "</table>\n",
       "<p>400 rows × 3 columns</p>\n",
       "</div>"
      ],
      "text/plain": [
       "     region    variable     value\n",
       "0         1  pred_error  0.090424\n",
       "1         2  pred_error  0.083392\n",
       "2         3  pred_error  0.131605\n",
       "3         4  pred_error  0.057432\n",
       "4         5  pred_error  0.093138\n",
       "..      ...         ...       ...\n",
       "395     196   tau_delta  0.159955\n",
       "396     197   tau_delta  0.168207\n",
       "397     198   tau_delta  0.249968\n",
       "398     199   tau_delta  0.283378\n",
       "399     200   tau_delta -0.240515\n",
       "\n",
       "[400 rows x 3 columns]"
      ]
     },
     "execution_count": 50,
     "metadata": {},
     "output_type": "execute_result"
    }
   ],
   "source": [
    "data = data.melt(id_vars = [\"region\"], value_vars=[\"pred_error\", \"tau_delta\"])\n",
    "data"
   ]
  },
  {
   "cell_type": "code",
   "execution_count": 51,
   "id": "7ddfcc41",
   "metadata": {
    "scrolled": true
   },
   "outputs": [
    {
     "data": {
      "image/png": "[encoded data removed]",
      "text/plain": [
       "<Figure size 640x480 with 1 Axes>"
      ]
     },
     "metadata": {},
     "output_type": "display_data"
    },
    {
     "data": {
      "text/plain": [
       "<ggplot: (8727186690811)>"
      ]
     },
     "execution_count": 51,
     "metadata": {},
     "output_type": "execute_result"
    }
   ],
   "source": [
    "(ggplot(data, aes(x='region', y='value', fill='variable')) + geom_col(stat='identity', position='dodge') + theme(axis_text_x=element_text(rotation=90, hjust=1)))"
   ]
  },
  {
   "cell_type": "code",
   "execution_count": 52,
   "id": "1de048a9",
   "metadata": {},
   "outputs": [],
   "source": [
    "# Load left and right hemispheres\n",
    "surf_lh, surf_rh = load_conte69()\n",
    "labeling = load_parcellation('schaefer', scale=200, join=True)\n",
    "m = load_group_fc('schaefer',scale=200)\n",
    "\n",
    "\n",
    "gm = GradientMaps(n_components=2, approach='dm', kernel='normalized_angle')\n",
    "gm.fit(m)\n",
    "\n",
    "values = target - x.numpy()\n",
    "\n",
    "grad = map_to_labels(values, labeling, mask=labeling != 0, fill=np.nan)\n",
    "test_ones = np.zeros(grad.shape)\n",
    "plot_hemispheres(surf_lh, surf_rh, color_bar=True, interactive=True, array_name=grad, size=(800, 400))"
   ]
  },
  {
   "cell_type": "code",
   "execution_count": 53,
   "id": "191f8ace",
   "metadata": {
    "scrolled": true
   },
   "outputs": [
    {
     "data": {
      "text/plain": [
       "torch.Size([64, 10, 200])"
      ]
     },
     "execution_count": 53,
     "metadata": {},
     "output_type": "execute_result"
    }
   ],
   "source": [
    "batch[:,:,3:].shape"
   ]
  },
  {
   "cell_type": "code",
   "execution_count": 54,
   "id": "789e560c",
   "metadata": {},
   "outputs": [
    {
     "data": {
      "text/plain": [
       "tensor(0.4409)"
      ]
     },
     "execution_count": 54,
     "metadata": {},
     "output_type": "execute_result"
    }
   ],
   "source": [
    "batch[:,:,3:].flatten().std()"
   ]
  },
  {
   "cell_type": "markdown",
   "id": "9a922d4f",
   "metadata": {},
   "source": [
    "## New Format"
   ]
  },
  {
   "cell_type": "code",
   "execution_count": 55,
   "id": "3e9fc7a2",
   "metadata": {},
   "outputs": [],
   "source": [
    "with open('data.pickle', 'rb') as handle:\n",
    "    dat = pickle.load(handle)\n",
    "# dat = [(input, target, prediction, class, input_len)]"
   ]
  },
  {
   "cell_type": "code",
   "execution_count": 56,
   "id": "47648da0",
   "metadata": {},
   "outputs": [
    {
     "name": "stdout",
     "output_type": "stream",
     "text": [
      "3775 tensor(0.0027)\n"
     ]
    }
   ],
   "source": [
    "min_mse = 1.0\n",
    "min_mse_arg = -1\n",
    "for i in np.arange(len(dat)):\n",
    "    diagnosis = dat[i][3]\n",
    "    input_len = dat[i][4]\n",
    "    if diagnosis == 0:\n",
    "        target = dat[i][1]\n",
    "        pred = dat[i][2]\n",
    "        mse = ((target - pred)**2).mean()\n",
    "        if mse < min_mse:\n",
    "            min_mse = mse\n",
    "            min_mse_arg = i\n",
    "            #print(i, mse)\n",
    "print(min_mse_arg, min_mse)"
   ]
  },
  {
   "cell_type": "code",
   "execution_count": 57,
   "id": "14c91040",
   "metadata": {},
   "outputs": [],
   "source": [
    "single_dat = dat[3775]\n",
    "\n",
    "x = single_dat[0][0,0,2:202]\n",
    "target = single_dat[1][0,:]\n",
    "pred = single_dat[2][0,:]\n",
    "label = single_dat[3] # 0: CN, 1: MCI, 2: Dementia"
   ]
  },
  {
   "cell_type": "code",
   "execution_count": 58,
   "id": "1ec0ca49",
   "metadata": {},
   "outputs": [
    {
     "data": {
      "image/png": "[encoded data removed]",
      "text/plain": [
       "<Figure size 640x480 with 1 Axes>"
      ]
     },
     "metadata": {},
     "output_type": "display_data"
    },
    {
     "data": {
      "text/plain": [
       "<ggplot: (8727187092538)>"
      ]
     },
     "execution_count": 58,
     "metadata": {},
     "output_type": "execute_result"
    }
   ],
   "source": [
    "dct = {\"region\": [(i+1) for i in np.arange(200)], \"x\": x, \"pred\": pred, \"target\": target}\n",
    "data = pd.DataFrame(dct)\n",
    "data = data.melt(id_vars = [\"region\"], value_vars=[\"x\", \"pred\", \"target\"])\n",
    "(ggplot(data, aes(x='region', y='value', fill='variable')) + geom_col(stat='identity', position='dodge') + theme(axis_text_x=element_text(rotation=90, hjust=1)))"
   ]
  },
  {
   "cell_type": "code",
   "execution_count": 59,
   "id": "8997ddb8",
   "metadata": {},
   "outputs": [
    {
     "data": {
      "image/png": "[encoded data removed]",
      "text/plain": [
       "<Figure size 640x480 with 1 Axes>"
      ]
     },
     "metadata": {},
     "output_type": "display_data"
    },
    {
     "data": {
      "text/plain": [
       "<ggplot: (8727186851366)>"
      ]
     },
     "execution_count": 59,
     "metadata": {},
     "output_type": "execute_result"
    }
   ],
   "source": [
    "dct = {\"region\": [(i+1) for i in np.arange(200)], \"x\": x, \"pred\": pred, \"target\": target, \"tau_delta\": target-x.numpy(), \"pred_tau_delta\": pred-x.numpy()}\n",
    "data = pd.DataFrame(dct)\n",
    "data = data.melt(id_vars = [\"region\"], value_vars=[\"tau_delta\", \"pred_tau_delta\"])\n",
    "(ggplot(data, aes(x='region', y='value', fill='variable')) + geom_col(stat='identity', position='dodge') + theme(axis_text_x=element_text(rotation=90, hjust=1)))"
   ]
  },
  {
   "cell_type": "code",
   "execution_count": 60,
   "id": "4e68dbf9",
   "metadata": {},
   "outputs": [
    {
     "data": {
      "image/png": "[encoded data removed]",
      "text/plain": [
       "<Figure size 640x480 with 1 Axes>"
      ]
     },
     "metadata": {},
     "output_type": "display_data"
    },
    {
     "data": {
      "text/plain": [
       "<ggplot: (8727187030866)>"
      ]
     },
     "execution_count": 60,
     "metadata": {},
     "output_type": "execute_result"
    }
   ],
   "source": [
    "dct = {\"region\": [(i+1) for i in np.arange(200)], \"x\": x, \"pred\": pred, \"target\": target, \"pred_error\": target-pred, \"tau_delta\": target-x.numpy()}\n",
    "data = pd.DataFrame(dct)\n",
    "data = data.melt(id_vars = [\"region\"], value_vars=[\"pred_error\", \"tau_delta\"])\n",
    "(ggplot(data, aes(x='region', y='value', fill='variable')) + geom_col(stat='identity', position='dodge') + theme(axis_text_x=element_text(rotation=90, hjust=1)))"
   ]
  },
  {
   "cell_type": "code",
   "execution_count": 61,
   "id": "2f18899b",
   "metadata": {},
   "outputs": [],
   "source": [
    "# Load left and right hemispheres\n",
    "surf_lh, surf_rh = load_conte69()\n",
    "labeling = load_parcellation('schaefer', scale=200, join=True)\n",
    "m = load_group_fc('schaefer',scale=200)\n",
    "\n",
    "\n",
    "gm = GradientMaps(n_components=2, approach='dm', kernel='normalized_angle')\n",
    "gm.fit(m)\n",
    "\n",
    "values = x\n",
    "\n",
    "grad = map_to_labels(values, labeling, mask=labeling != 0, fill=np.nan)\n",
    "test_ones = np.zeros(grad.shape)\n",
    "plot_hemispheres(surf_lh, surf_rh, color_bar=True, interactive=False, array_name=grad, size=(800, 400))"
   ]
  }
 ],
 "metadata": {
  "kernelspec": {
   "display_name": "Python 3",
   "language": "python",
   "name": "python3"
  },
  "language_info": {
   "codemirror_mode": {
    "name": "ipython",
    "version": 3
   },
   "file_extension": ".py",
   "mimetype": "text/x-python",
   "name": "python",
   "nbconvert_exporter": "python",
   "pygments_lexer": "ipython3",
   "version": "3.10.9"
  }
 },
 "nbformat": 4,
 "nbformat_minor": 5
}
